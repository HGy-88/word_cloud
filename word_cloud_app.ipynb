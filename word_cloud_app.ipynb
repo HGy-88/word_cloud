{
 "cells": [
  {
   "cell_type": "code",
   "execution_count": null,
   "id": "41cf7094-c68a-48c8-8505-ad54cb800f4e",
   "metadata": {
    "tags": []
   },
   "outputs": [
    {
     "name": "stdout",
     "output_type": "stream",
     "text": [
      "flask (2.2.2) is installed\n",
      "werkzeug (2.2.3) is installed\n",
      "wordcloud is NOT installed\n",
      "matplotlib (3.7.1) is installed\n",
      "docx2txt is NOT installed\n",
      " * Serving Flask app '__main__'\n",
      " * Debug mode: off\n"
     ]
    },
    {
     "name": "stderr",
     "output_type": "stream",
     "text": [
      "WARNING: This is a development server. Do not use it in a production deployment. Use a production WSGI server instead.\n",
      " * Running on http://127.0.0.1:5000\n",
      "Press CTRL+C to quit\n"
     ]
    }
   ],
   "source": [
    "import subprocess\n",
    "import pkg_resources\n",
    "\n",
    "REQUIRED_PACKAGES = [\n",
    "    'flask',\n",
    "    'werkzeug',\n",
    "    'wordcloud',\n",
    "    'matplotlib',\n",
    "    'docx2txt'\n",
    "]\n",
    "\n",
    "for package in REQUIRED_PACKAGES:\n",
    "    try:\n",
    "        dist = pkg_resources.get_distribution(package)\n",
    "        print('{} ({}) is installed'.format(dist.key, dist.version))\n",
    "    except pkg_resources.DistributionNotFound:\n",
    "        print('{} is NOT installed'.format(package))\n",
    "        subprocess.call(['pip', 'install', package])\n",
    "\n",
    "\n",
    "\n",
    "\n",
    "from flask import Flask, request\n",
    "from werkzeug.utils import secure_filename\n",
    "from wordcloud import WordCloud\n",
    "import matplotlib.pyplot as plt\n",
    "import docx2txt\n",
    "import os\n",
    "\n",
    "app = Flask(__name__)\n",
    "\n",
    "@app.route('/', methods=['GET', 'POST'])\n",
    "def upload():\n",
    "    if request.method == 'POST':\n",
    "        file = request.files['document']\n",
    "        filename = secure_filename(file.filename)\n",
    "        file.save(os.path.join('uploads', filename))\n",
    "        create_wordcloud_from_docx(os.path.join('uploads', filename))\n",
    "        return 'Word cloud created and saved as wordcloud.png'\n",
    "    return '''\n",
    "    <!doctype html>\n",
    "    <html>\n",
    "        <head>\n",
    "            <title>Upload a Word document</title>\n",
    "        </head>\n",
    "        <body>\n",
    "            <h1>Upload a Word document</h1>\n",
    "            <form method=\"POST\" enctype=\"multipart/form-data\">\n",
    "                <input type=\"file\" name=\"document\">\n",
    "                <input type=\"submit\" value=\"Upload\">\n",
    "            </form>\n",
    "        </body>\n",
    "    </html>\n",
    "    '''\n",
    "\n",
    "def create_wordcloud_from_docx(file_path):\n",
    "    text = docx2txt.process(file_path)\n",
    "    wordcloud = WordCloud(width = 800, height = 800, background_color ='white', stopwords = None, min_font_size = 10).generate(text)\n",
    "    plt.figure(figsize = (8, 8), facecolor = None) \n",
    "    plt.imshow(wordcloud) \n",
    "    plt.axis(\"off\") \n",
    "    plt.tight_layout(pad = 0) \n",
    "    wordcloud.to_file(\"wordcloud.png\")\n",
    "\n",
    "if __name__ == '__main__':\n",
    "    app.run()\n"
   ]
  },
  {
   "cell_type": "code",
   "execution_count": null,
   "id": "86b41ebf-c918-467d-9e76-fb46a1629406",
   "metadata": {},
   "outputs": [],
   "source": []
  }
 ],
 "metadata": {
  "kernelspec": {
   "display_name": "Python 3 (ipykernel)",
   "language": "python",
   "name": "python3"
  },
  "language_info": {
   "codemirror_mode": {
    "name": "ipython",
    "version": 3
   },
   "file_extension": ".py",
   "mimetype": "text/x-python",
   "name": "python",
   "nbconvert_exporter": "python",
   "pygments_lexer": "ipython3",
   "version": "3.11.3"
  }
 },
 "nbformat": 4,
 "nbformat_minor": 5
}
